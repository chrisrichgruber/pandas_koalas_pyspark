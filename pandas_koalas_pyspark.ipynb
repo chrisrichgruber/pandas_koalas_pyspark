{
 "cells": [
  {
   "cell_type": "code",
   "execution_count": 1,
   "metadata": {},
   "outputs": [],
   "source": [
    "!pip install pyspark #must have java jdk\n",
    "!pip install koalas"
   ]
  },
  {
   "cell_type": "code",
   "execution_count": 19,
   "metadata": {},
   "outputs": [],
   "source": [
    "import pandas as pd\n",
    "import databricks.koalas as ks\n",
    "from pyspark.sql import SparkSession\n",
    "import time\n",
    "import seaborn as sns\n",
    "import matplotlib.pyplot as plt\n"
   ]
  },
  {
   "cell_type": "code",
   "execution_count": 3,
   "metadata": {},
   "outputs": [],
   "source": [
    "spark = SparkSession.builder.getOrCreate()"
   ]
  },
  {
   "cell_type": "code",
   "execution_count": 4,
   "metadata": {},
   "outputs": [
    {
     "name": "stdout",
     "output_type": "stream",
     "text": [
      "487 ms ± 12.7 ms per loop (mean ± std. dev. of 7 runs, 1 loop each)\n"
     ]
    }
   ],
   "source": [
    "%timeit df_pandas = pd.read_csv(\"/Users/Chris/Downloads/all_stocks_5yr.csv\")"
   ]
  },
  {
   "cell_type": "code",
   "execution_count": 5,
   "metadata": {},
   "outputs": [
    {
     "name": "stdout",
     "output_type": "stream",
     "text": [
      "1.35 s ± 404 ms per loop (mean ± std. dev. of 7 runs, 1 loop each)\n"
     ]
    }
   ],
   "source": [
    "%timeit df_koalas = ks.read_csv(\"/Users/Chris/Downloads/all_stocks_5yr.csv\")"
   ]
  },
  {
   "cell_type": "code",
   "execution_count": 6,
   "metadata": {},
   "outputs": [
    {
     "name": "stdout",
     "output_type": "stream",
     "text": [
      "266 ms ± 92.6 ms per loop (mean ± std. dev. of 7 runs, 1 loop each)\n"
     ]
    }
   ],
   "source": [
    "%timeit df_pyspark = spark.read.csv(\"/Users/Chris/Downloads/all_stocks_5yr.csv\", header=True)"
   ]
  },
  {
   "cell_type": "code",
   "execution_count": 7,
   "metadata": {},
   "outputs": [],
   "source": [
    "df_pandas = pd.read_csv(\"/Users/Chris/Downloads/all_stocks_5yr.csv\")\n",
    "df_koalas = ks.read_csv(\"/Users/Chris/Downloads/all_stocks_5yr.csv\")\n",
    "df_pyspark = spark.read.csv(\"/Users/Chris/Downloads/all_stocks_5yr.csv\", header=True)"
   ]
  },
  {
   "cell_type": "code",
   "execution_count": 8,
   "metadata": {},
   "outputs": [
    {
     "data": {
      "text/plain": [
       "619040"
      ]
     },
     "execution_count": 8,
     "metadata": {},
     "output_type": "execute_result"
    }
   ],
   "source": [
    "len(df_pandas)"
   ]
  },
  {
   "cell_type": "code",
   "execution_count": 9,
   "metadata": {},
   "outputs": [
    {
     "data": {
      "text/html": [
       "<div>\n",
       "<style scoped>\n",
       "    .dataframe tbody tr th:only-of-type {\n",
       "        vertical-align: middle;\n",
       "    }\n",
       "\n",
       "    .dataframe tbody tr th {\n",
       "        vertical-align: top;\n",
       "    }\n",
       "\n",
       "    .dataframe thead th {\n",
       "        text-align: right;\n",
       "    }\n",
       "</style>\n",
       "<table border=\"1\" class=\"dataframe\">\n",
       "  <thead>\n",
       "    <tr style=\"text-align: right;\">\n",
       "      <th></th>\n",
       "      <th>date</th>\n",
       "      <th>open</th>\n",
       "      <th>high</th>\n",
       "      <th>low</th>\n",
       "      <th>close</th>\n",
       "      <th>volume</th>\n",
       "      <th>Name</th>\n",
       "    </tr>\n",
       "  </thead>\n",
       "  <tbody>\n",
       "    <tr>\n",
       "      <th>0</th>\n",
       "      <td>2013-02-08</td>\n",
       "      <td>15.07</td>\n",
       "      <td>15.12</td>\n",
       "      <td>14.63</td>\n",
       "      <td>14.75</td>\n",
       "      <td>8407500</td>\n",
       "      <td>AAL</td>\n",
       "    </tr>\n",
       "    <tr>\n",
       "      <th>1</th>\n",
       "      <td>2013-02-11</td>\n",
       "      <td>14.89</td>\n",
       "      <td>15.01</td>\n",
       "      <td>14.26</td>\n",
       "      <td>14.46</td>\n",
       "      <td>8882000</td>\n",
       "      <td>AAL</td>\n",
       "    </tr>\n",
       "    <tr>\n",
       "      <th>2</th>\n",
       "      <td>2013-02-12</td>\n",
       "      <td>14.45</td>\n",
       "      <td>14.51</td>\n",
       "      <td>14.10</td>\n",
       "      <td>14.27</td>\n",
       "      <td>8126000</td>\n",
       "      <td>AAL</td>\n",
       "    </tr>\n",
       "    <tr>\n",
       "      <th>3</th>\n",
       "      <td>2013-02-13</td>\n",
       "      <td>14.30</td>\n",
       "      <td>14.94</td>\n",
       "      <td>14.25</td>\n",
       "      <td>14.66</td>\n",
       "      <td>10259500</td>\n",
       "      <td>AAL</td>\n",
       "    </tr>\n",
       "    <tr>\n",
       "      <th>4</th>\n",
       "      <td>2013-02-14</td>\n",
       "      <td>14.94</td>\n",
       "      <td>14.96</td>\n",
       "      <td>13.16</td>\n",
       "      <td>13.99</td>\n",
       "      <td>31879900</td>\n",
       "      <td>AAL</td>\n",
       "    </tr>\n",
       "  </tbody>\n",
       "</table>\n",
       "</div>"
      ],
      "text/plain": [
       "         date   open   high    low  close    volume Name\n",
       "0  2013-02-08  15.07  15.12  14.63  14.75   8407500  AAL\n",
       "1  2013-02-11  14.89  15.01  14.26  14.46   8882000  AAL\n",
       "2  2013-02-12  14.45  14.51  14.10  14.27   8126000  AAL\n",
       "3  2013-02-13  14.30  14.94  14.25  14.66  10259500  AAL\n",
       "4  2013-02-14  14.94  14.96  13.16  13.99  31879900  AAL"
      ]
     },
     "execution_count": 9,
     "metadata": {},
     "output_type": "execute_result"
    }
   ],
   "source": [
    "df_pandas.head()"
   ]
  },
  {
   "cell_type": "code",
   "execution_count": 10,
   "metadata": {},
   "outputs": [
    {
     "data": {
      "text/html": [
       "<div>\n",
       "<style scoped>\n",
       "    .dataframe tbody tr th:only-of-type {\n",
       "        vertical-align: middle;\n",
       "    }\n",
       "\n",
       "    .dataframe tbody tr th {\n",
       "        vertical-align: top;\n",
       "    }\n",
       "\n",
       "    .dataframe thead th {\n",
       "        text-align: right;\n",
       "    }\n",
       "</style>\n",
       "<table border=\"1\" class=\"dataframe\">\n",
       "  <thead>\n",
       "    <tr style=\"text-align: right;\">\n",
       "      <th></th>\n",
       "      <th>date</th>\n",
       "      <th>open</th>\n",
       "      <th>high</th>\n",
       "      <th>low</th>\n",
       "      <th>close</th>\n",
       "      <th>volume</th>\n",
       "      <th>Name</th>\n",
       "    </tr>\n",
       "  </thead>\n",
       "  <tbody>\n",
       "    <tr>\n",
       "      <th>0</th>\n",
       "      <td>2013-02-08</td>\n",
       "      <td>15.07</td>\n",
       "      <td>15.12</td>\n",
       "      <td>14.63</td>\n",
       "      <td>14.75</td>\n",
       "      <td>8407500</td>\n",
       "      <td>AAL</td>\n",
       "    </tr>\n",
       "    <tr>\n",
       "      <th>1</th>\n",
       "      <td>2013-02-11</td>\n",
       "      <td>14.89</td>\n",
       "      <td>15.01</td>\n",
       "      <td>14.26</td>\n",
       "      <td>14.46</td>\n",
       "      <td>8882000</td>\n",
       "      <td>AAL</td>\n",
       "    </tr>\n",
       "    <tr>\n",
       "      <th>2</th>\n",
       "      <td>2013-02-12</td>\n",
       "      <td>14.45</td>\n",
       "      <td>14.51</td>\n",
       "      <td>14.10</td>\n",
       "      <td>14.27</td>\n",
       "      <td>8126000</td>\n",
       "      <td>AAL</td>\n",
       "    </tr>\n",
       "    <tr>\n",
       "      <th>3</th>\n",
       "      <td>2013-02-13</td>\n",
       "      <td>14.30</td>\n",
       "      <td>14.94</td>\n",
       "      <td>14.25</td>\n",
       "      <td>14.66</td>\n",
       "      <td>10259500</td>\n",
       "      <td>AAL</td>\n",
       "    </tr>\n",
       "    <tr>\n",
       "      <th>4</th>\n",
       "      <td>2013-02-14</td>\n",
       "      <td>14.94</td>\n",
       "      <td>14.96</td>\n",
       "      <td>13.16</td>\n",
       "      <td>13.99</td>\n",
       "      <td>31879900</td>\n",
       "      <td>AAL</td>\n",
       "    </tr>\n",
       "  </tbody>\n",
       "</table>\n",
       "</div>"
      ],
      "text/plain": [
       "         date   open   high    low  close    volume Name\n",
       "0  2013-02-08  15.07  15.12  14.63  14.75   8407500  AAL\n",
       "1  2013-02-11  14.89  15.01  14.26  14.46   8882000  AAL\n",
       "2  2013-02-12  14.45  14.51  14.10  14.27   8126000  AAL\n",
       "3  2013-02-13  14.30  14.94  14.25  14.66  10259500  AAL\n",
       "4  2013-02-14  14.94  14.96  13.16  13.99  31879900  AAL"
      ]
     },
     "execution_count": 10,
     "metadata": {},
     "output_type": "execute_result"
    }
   ],
   "source": [
    "df_koalas.head()"
   ]
  },
  {
   "cell_type": "code",
   "execution_count": 11,
   "metadata": {},
   "outputs": [
    {
     "name": "stdout",
     "output_type": "stream",
     "text": [
      "+----------+-----+-----+-----+-----+--------+----+\n",
      "|      date| open| high|  low|close|  volume|Name|\n",
      "+----------+-----+-----+-----+-----+--------+----+\n",
      "|2013-02-08|15.07|15.12|14.63|14.75| 8407500| AAL|\n",
      "|2013-02-11|14.89|15.01|14.26|14.46| 8882000| AAL|\n",
      "|2013-02-12|14.45|14.51| 14.1|14.27| 8126000| AAL|\n",
      "|2013-02-13| 14.3|14.94|14.25|14.66|10259500| AAL|\n",
      "|2013-02-14|14.94|14.96|13.16|13.99|31879900| AAL|\n",
      "+----------+-----+-----+-----+-----+--------+----+\n",
      "only showing top 5 rows\n",
      "\n"
     ]
    }
   ],
   "source": [
    "df_pyspark.show(5)"
   ]
  },
  {
   "cell_type": "code",
   "execution_count": 12,
   "metadata": {},
   "outputs": [],
   "source": [
    "num_iter = 5"
   ]
  },
  {
   "cell_type": "code",
   "execution_count": 13,
   "metadata": {},
   "outputs": [
    {
     "name": "stdout",
     "output_type": "stream",
     "text": [
      "Dataframe length: 619040\n",
      "Pandas Groupby Time = 0.098 seconds\n",
      "Pandas Concat Time = 0.083 seconds\n",
      "====================================================\n",
      "Dataframe length: 1238080\n",
      "Pandas Groupby Time = 0.218 seconds\n",
      "Pandas Concat Time = 0.156 seconds\n",
      "====================================================\n",
      "Dataframe length: 2476160\n",
      "Pandas Groupby Time = 0.335 seconds\n",
      "Pandas Concat Time = 0.309 seconds\n",
      "====================================================\n",
      "Dataframe length: 4952320\n",
      "Pandas Groupby Time = 0.956 seconds\n",
      "Pandas Concat Time = 0.823 seconds\n",
      "====================================================\n",
      "Dataframe length: 9904640\n",
      "Pandas Groupby Time = 1.455 seconds\n",
      "Pandas Concat Time = 1.588 seconds\n",
      "====================================================\n"
     ]
    }
   ],
   "source": [
    "j=0\n",
    "results = []\n",
    "while j < num_iter:\n",
    "    print('Dataframe length:', len(df_pandas))\n",
    "    t0= time.time()\n",
    "    df_pandas.groupby('Name').mean()\n",
    "    t1= time.time()\n",
    "    print('Pandas Groupby Time = {:0.3f} seconds'.format(t1-t0))\n",
    "    t2 = time.time()\n",
    "    df_pandas = pd.concat([df_pandas, df_pandas], ignore_index=True)\n",
    "    t3 = time.time()\n",
    "    print('Pandas Concat Time = {:0.3f} seconds'.format(t3-t2))\n",
    "    j=j+1\n",
    "    print('====================================================')\n",
    "    results.append(['pandas',t3-t2,t1-t0,len(df_pandas)])\n"
   ]
  },
  {
   "cell_type": "code",
   "execution_count": 14,
   "metadata": {},
   "outputs": [
    {
     "name": "stdout",
     "output_type": "stream",
     "text": [
      "Dataframe length: 619040\n",
      "Koalas Groupby Time = 0.432 seconds\n",
      "Koalas Concat Time = 0.213 seconds\n",
      "====================================================\n",
      "Dataframe length: 1238080\n",
      "Koalas Groupby Time = 0.206 seconds\n",
      "Koalas Concat Time = 0.098 seconds\n",
      "====================================================\n",
      "Dataframe length: 2476160\n",
      "Koalas Groupby Time = 0.202 seconds\n",
      "Koalas Concat Time = 0.089 seconds\n",
      "====================================================\n",
      "Dataframe length: 4952320\n",
      "Koalas Groupby Time = 0.186 seconds\n",
      "Koalas Concat Time = 0.112 seconds\n",
      "====================================================\n",
      "Dataframe length: 9904640\n",
      "Koalas Groupby Time = 0.220 seconds\n",
      "Koalas Concat Time = 0.121 seconds\n",
      "====================================================\n"
     ]
    }
   ],
   "source": [
    "j=0\n",
    "\n",
    "while j < num_iter:\n",
    "    print('Dataframe length:', len(df_koalas))\n",
    "    t0= time.time()\n",
    "    df_koalas.groupby('Name').mean()\n",
    "    t1= time.time()\n",
    "    print('Koalas Groupby Time = {:0.3f} seconds'.format(t1-t0))\n",
    "    t2 = time.time()\n",
    "    df_koalas = ks.concat([df_koalas, df_koalas], ignore_index=True)\n",
    "    t3 = time.time()\n",
    "    print('Koalas Concat Time = {:0.3f} seconds'.format(t3-t2))\n",
    "    j=j+1\n",
    "    print('====================================================')\n",
    "    results.append(['koalas',t3-t2,t1-t0,len(df_koalas)])\n"
   ]
  },
  {
   "cell_type": "code",
   "execution_count": 15,
   "metadata": {},
   "outputs": [
    {
     "name": "stdout",
     "output_type": "stream",
     "text": [
      "Dataframe length: 619040\n",
      "PySpark Groupby Time = 0.015 seconds\n",
      "PySpark Concat Time = 0.003 seconds\n",
      "====================================================\n",
      "Dataframe length: 1238080\n",
      "PySpark Groupby Time = 0.036 seconds\n",
      "PySpark Concat Time = 0.008 seconds\n",
      "====================================================\n",
      "Dataframe length: 2476160\n",
      "PySpark Groupby Time = 0.008 seconds\n",
      "PySpark Concat Time = 0.009 seconds\n",
      "====================================================\n",
      "Dataframe length: 4952320\n",
      "PySpark Groupby Time = 0.010 seconds\n",
      "PySpark Concat Time = 0.013 seconds\n",
      "====================================================\n",
      "Dataframe length: 9904640\n",
      "PySpark Groupby Time = 0.009 seconds\n",
      "PySpark Concat Time = 0.021 seconds\n",
      "====================================================\n"
     ]
    }
   ],
   "source": [
    "j=0\n",
    "while j < num_iter:\n",
    "    print('Dataframe length:', df_pyspark.count())\n",
    "    t0= time.time()\n",
    "    df_pyspark.groupby('Name').mean() \n",
    "    t1= time.time()\n",
    "    print('PySpark Groupby Time = {:0.3f} seconds'.format(t1-t0))\n",
    "    t2 = time.time()\n",
    "    df_pyspark = df_pyspark.union(df_pyspark)\n",
    "    t3 = time.time()\n",
    "    print('PySpark Concat Time = {:0.3f} seconds'.format(t3-t2))\n",
    "    j=j+1\n",
    "    print('====================================================')\n",
    "    results.append(['pyspark',t3-t2,t1-t0,df_pyspark.count()])\n"
   ]
  },
  {
   "cell_type": "code",
   "execution_count": null,
   "metadata": {},
   "outputs": [],
   "source": []
  },
  {
   "cell_type": "code",
   "execution_count": null,
   "metadata": {},
   "outputs": [],
   "source": []
  },
  {
   "cell_type": "code",
   "execution_count": 16,
   "metadata": {},
   "outputs": [
    {
     "data": {
      "text/html": [
       "<div>\n",
       "<style scoped>\n",
       "    .dataframe tbody tr th:only-of-type {\n",
       "        vertical-align: middle;\n",
       "    }\n",
       "\n",
       "    .dataframe tbody tr th {\n",
       "        vertical-align: top;\n",
       "    }\n",
       "\n",
       "    .dataframe thead th {\n",
       "        text-align: right;\n",
       "    }\n",
       "</style>\n",
       "<table border=\"1\" class=\"dataframe\">\n",
       "  <thead>\n",
       "    <tr style=\"text-align: right;\">\n",
       "      <th></th>\n",
       "      <th>package</th>\n",
       "      <th>concat_time</th>\n",
       "      <th>groupby_time</th>\n",
       "      <th>df_length</th>\n",
       "    </tr>\n",
       "  </thead>\n",
       "  <tbody>\n",
       "    <tr>\n",
       "      <th>0</th>\n",
       "      <td>pandas</td>\n",
       "      <td>0.082654</td>\n",
       "      <td>0.098229</td>\n",
       "      <td>1238080</td>\n",
       "    </tr>\n",
       "    <tr>\n",
       "      <th>1</th>\n",
       "      <td>pandas</td>\n",
       "      <td>0.155611</td>\n",
       "      <td>0.217903</td>\n",
       "      <td>2476160</td>\n",
       "    </tr>\n",
       "    <tr>\n",
       "      <th>2</th>\n",
       "      <td>pandas</td>\n",
       "      <td>0.308549</td>\n",
       "      <td>0.334641</td>\n",
       "      <td>4952320</td>\n",
       "    </tr>\n",
       "    <tr>\n",
       "      <th>3</th>\n",
       "      <td>pandas</td>\n",
       "      <td>0.823467</td>\n",
       "      <td>0.955979</td>\n",
       "      <td>9904640</td>\n",
       "    </tr>\n",
       "    <tr>\n",
       "      <th>4</th>\n",
       "      <td>pandas</td>\n",
       "      <td>1.588287</td>\n",
       "      <td>1.454501</td>\n",
       "      <td>19809280</td>\n",
       "    </tr>\n",
       "    <tr>\n",
       "      <th>5</th>\n",
       "      <td>koalas</td>\n",
       "      <td>0.212563</td>\n",
       "      <td>0.432352</td>\n",
       "      <td>1238080</td>\n",
       "    </tr>\n",
       "    <tr>\n",
       "      <th>6</th>\n",
       "      <td>koalas</td>\n",
       "      <td>0.098198</td>\n",
       "      <td>0.206125</td>\n",
       "      <td>2476160</td>\n",
       "    </tr>\n",
       "    <tr>\n",
       "      <th>7</th>\n",
       "      <td>koalas</td>\n",
       "      <td>0.089141</td>\n",
       "      <td>0.202226</td>\n",
       "      <td>4952320</td>\n",
       "    </tr>\n",
       "    <tr>\n",
       "      <th>8</th>\n",
       "      <td>koalas</td>\n",
       "      <td>0.111909</td>\n",
       "      <td>0.186253</td>\n",
       "      <td>9904640</td>\n",
       "    </tr>\n",
       "    <tr>\n",
       "      <th>9</th>\n",
       "      <td>koalas</td>\n",
       "      <td>0.121401</td>\n",
       "      <td>0.220440</td>\n",
       "      <td>19809280</td>\n",
       "    </tr>\n",
       "    <tr>\n",
       "      <th>10</th>\n",
       "      <td>pyspark</td>\n",
       "      <td>0.003386</td>\n",
       "      <td>0.015255</td>\n",
       "      <td>1238080</td>\n",
       "    </tr>\n",
       "    <tr>\n",
       "      <th>11</th>\n",
       "      <td>pyspark</td>\n",
       "      <td>0.007646</td>\n",
       "      <td>0.035546</td>\n",
       "      <td>2476160</td>\n",
       "    </tr>\n",
       "    <tr>\n",
       "      <th>12</th>\n",
       "      <td>pyspark</td>\n",
       "      <td>0.008766</td>\n",
       "      <td>0.007691</td>\n",
       "      <td>4952320</td>\n",
       "    </tr>\n",
       "    <tr>\n",
       "      <th>13</th>\n",
       "      <td>pyspark</td>\n",
       "      <td>0.012552</td>\n",
       "      <td>0.009913</td>\n",
       "      <td>9904640</td>\n",
       "    </tr>\n",
       "    <tr>\n",
       "      <th>14</th>\n",
       "      <td>pyspark</td>\n",
       "      <td>0.020908</td>\n",
       "      <td>0.009491</td>\n",
       "      <td>19809280</td>\n",
       "    </tr>\n",
       "  </tbody>\n",
       "</table>\n",
       "</div>"
      ],
      "text/plain": [
       "    package  concat_time  groupby_time  df_length\n",
       "0    pandas     0.082654      0.098229    1238080\n",
       "1    pandas     0.155611      0.217903    2476160\n",
       "2    pandas     0.308549      0.334641    4952320\n",
       "3    pandas     0.823467      0.955979    9904640\n",
       "4    pandas     1.588287      1.454501   19809280\n",
       "5    koalas     0.212563      0.432352    1238080\n",
       "6    koalas     0.098198      0.206125    2476160\n",
       "7    koalas     0.089141      0.202226    4952320\n",
       "8    koalas     0.111909      0.186253    9904640\n",
       "9    koalas     0.121401      0.220440   19809280\n",
       "10  pyspark     0.003386      0.015255    1238080\n",
       "11  pyspark     0.007646      0.035546    2476160\n",
       "12  pyspark     0.008766      0.007691    4952320\n",
       "13  pyspark     0.012552      0.009913    9904640\n",
       "14  pyspark     0.020908      0.009491   19809280"
      ]
     },
     "execution_count": 16,
     "metadata": {},
     "output_type": "execute_result"
    }
   ],
   "source": [
    "df_results = pd.DataFrame(results, columns=['package','concat_time','groupby_time','df_length'])\n",
    "df_results"
   ]
  },
  {
   "cell_type": "code",
   "execution_count": 17,
   "metadata": {},
   "outputs": [
    {
     "data": {
      "image/png": "[encoded data removed]",
      "text/plain": [
       "<Figure size 1152x576 with 1 Axes>"
      ]
     },
     "metadata": {
      "needs_background": "light"
     },
     "output_type": "display_data"
    }
   ],
   "source": [
    "plt.figure(figsize=(16, 8))\n",
    "ax = sns.lineplot(data=df_results, x=\"df_length\", y=\"groupby_time\", hue=\"package\")\n",
    "ax.set(xlabel='Rows in Dataframe', ylabel='Group By Time (seconds)')\n",
    "plt.show()"
   ]
  },
  {
   "cell_type": "code",
   "execution_count": 18,
   "metadata": {},
   "outputs": [
    {
     "data": {
      "image/png": "[encoded data removed]",
      "text/plain": [
       "<Figure size 1152x576 with 1 Axes>"
      ]
     },
     "metadata": {
      "needs_background": "light"
     },
     "output_type": "display_data"
    }
   ],
   "source": [
    "plt.figure(figsize=(16, 8))\n",
    "ax = sns.lineplot(data=df_results, x=\"df_length\", y=\"concat_time\", hue=\"package\")\n",
    "ax.set(xlabel='Rows in Dataframe', ylabel='Concat/Union Time (seconds)')\n",
    "plt.show()"
   ]
  },
  {
   "cell_type": "code",
   "execution_count": null,
   "metadata": {},
   "outputs": [],
   "source": []
  },
  {
   "cell_type": "code",
   "execution_count": null,
   "metadata": {},
   "outputs": [],
   "source": []
  }
 ],
 "metadata": {
  "kernelspec": {
   "display_name": "Python 3",
   "language": "python",
   "name": "python3"
  },
  "language_info": {
   "codemirror_mode": {
    "name": "ipython",
    "version": 3
   },
   "file_extension": ".py",
   "mimetype": "text/x-python",
   "name": "python",
   "nbconvert_exporter": "python",
   "pygments_lexer": "ipython3",
   "version": "3.7.1"
  }
 },
 "nbformat": 4,
 "nbformat_minor": 4
}
